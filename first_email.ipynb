{
 "cells": [
  {
   "cell_type": "code",
   "execution_count": 1,
   "metadata": {
    "collapsed": true
   },
   "outputs": [],
   "source": [
    "import os,json\n",
    "import sys\n",
    "import augur\n",
    "import sqlalchemy as s\n",
    "import numpy as np\n",
    "import pandas as pd"
   ]
  },
  {
   "cell_type": "code",
   "execution_count": 2,
   "metadata": {
    "collapsed": true
   },
   "outputs": [],
   "source": [
    "if(\"notebooks\" not in os.getcwd()):\n",
    "    os.chdir(\"../../notebooks\")\n",
    "\n",
    "augurApp = augur.Application('../augur.config.json')\n",
    "\n",
    "connect = augurApp.ghtorrentplus()"
   ]
  },
  {
   "cell_type": "code",
   "execution_count": 3,
   "metadata": {
    "scrolled": true
   },
   "outputs": [
    {
     "name": "stdout",
     "output_type": "stream",
     "text": [
      "['github_issues', 'github_issues_2', 'github_issues_repo_jobs', 'github_issues_sentiment_scores', 'github_issues_sentiment_scores_senticr', 'github_pull_request_repo_jobs', 'github_pull_requests', 'github_pull_requests_2', 'github_pull_requests_sentiment_scores', 'github_pull_requests_sentiment_scores_2', 'github_pull_requests_sentiment_scores_senticr', 'issue_response_time', 'issue_response_time2', 'issue_response_time_3', 'mail_lists', 'mail_lists_sentiment_scores_nltk', 'mail_lists_sentiment_scores_senticr', 'mailing_list_jobs', 'profane_words']\n",
      "         project\n",
      "0  gluster-users\n",
      "1       announce\n",
      "2  gluster-devel\n",
      "3  gluster-infra\n",
      "4     aalldp-dev\n"
     ]
    }
   ],
   "source": [
    "table_names = s.inspect(connect.db).get_table_names()\n",
    "print(table_names)\n",
    "\n",
    "if(\"mailing_list_jobs\" in table_names):\n",
    "    lists_createdSQL = s.sql.text(\"\"\"SELECT project FROM mailing_list_jobs\"\"\")\n",
    "    df1 = pd.read_sql(lists_createdSQL, connect.db)\n",
    "    print(df1)\n",
    "    val = True"
   ]
  },
  {
   "cell_type": "code",
   "execution_count": 16,
   "metadata": {},
   "outputs": [
    {
     "name": "stdout",
     "output_type": "stream",
     "text": [
      "aalldp-dev Mailing List\n",
      "An.Ho at huawei.com (An Ho) 103964 Hi Brian Kaczynski <kaczynskib at avaya.com>, Dennis Flynn <drflynn at avaya.com>,\n",
      "\n",
      "Please reply to \n",
      "Here\n",
      "Here\n",
      "Here\n",
      "corajososprojetosdn at gmail.com (Projeto sdn) 103968 Hi guys,\n",
      "\n",
      "I'm new to the opendaylight universe and I need to make non-openflow\n",
      "devices discoverable \n",
      "Here\n",
      "tompantelis at gmail.com (Tom Pantelis) 103970 On Fri, Jul 6, 2018 at 10:48 AM, Projeto sdn <corajososprojetosdn at gmail.com>\n",
      "wrote:\n",
      "\n",
      ">\n",
      ">\n",
      ">\n",
      "> Hi g\n",
      "Here\n",
      "skitt at redhat.com (Stephen Kitt) 103972 Dear AALLDP developers,\n",
      "\n",
      "The OpenDaylight TSC is initiating a termination review in order to\n",
      "archive\n",
      "Here\n",
      "4\n"
     ]
    }
   ],
   "source": [
    "names = [\"aalldp-dev\",\"announce\"]\n",
    "#for i in df1['project'].values:\n",
    "for i in names:\n",
    "    print(i,\"Mailing List\")\n",
    "    \n",
    "    SQL = s.sql.text(\"\"\"SELECT * \n",
    "    FROM mail_lists WHERE mailing_list = \"\"\" +  \"'\" + i + \"'\")\n",
    "    #print(\"huh\")\n",
    "    df2 = pd.read_sql(SQL, connect.db)\n",
    "    current_user = []\n",
    "    first_email = []\n",
    "    for j in range(len(df2)):\n",
    "        name = df2['message_from'][j]\n",
    "        if(name in current_user):\n",
    "            print(\"Here\")\n",
    "            continue\n",
    "        augurmsgID = df2['augurmsgID'][j]\n",
    "        current_user.append(name)\n",
    "        first_email.append(augurmsgID)\n",
    "        print(name,augurmsgID,df2['message_text'][j])\n",
    "        #print(df2['augurmsgID'][i],df2['message_from'][i])\n",
    "    print(len(current_user))\n",
    "    break"
   ]
  },
  {
   "cell_type": "code",
   "execution_count": 10,
   "metadata": {},
   "outputs": [
    {
     "name": "stdout",
     "output_type": "stream",
     "text": [
      "False\n"
     ]
    }
   ],
   "source": [
    "print('An.Ho at huawei.com (An Ho)' in current_user)"
   ]
  },
  {
   "cell_type": "code",
   "execution_count": 11,
   "metadata": {},
   "outputs": [
    {
     "name": "stdout",
     "output_type": "stream",
     "text": [
      "25\n"
     ]
    }
   ],
   "source": [
    "print(len(current_user))"
   ]
  }
 ],
 "metadata": {
  "kernelspec": {
   "display_name": "Python (augur)",
   "language": "python",
   "name": "augur"
  },
  "language_info": {
   "codemirror_mode": {
    "name": "ipython",
    "version": 3
   },
   "file_extension": ".py",
   "mimetype": "text/x-python",
   "name": "python",
   "nbconvert_exporter": "python",
   "pygments_lexer": "ipython3",
   "version": "3.6.5"
  }
 },
 "nbformat": 4,
 "nbformat_minor": 2
}
