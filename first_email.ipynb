{
 "cells": [
  {
   "cell_type": "code",
   "execution_count": 1,
   "metadata": {
    "collapsed": true
   },
   "outputs": [],
   "source": [
    "import os,json\n",
    "import sys\n",
    "import augur\n",
    "import sqlalchemy as s\n",
    "import numpy as np\n",
    "import pandas as pd"
   ]
  },
  {
   "cell_type": "code",
   "execution_count": 2,
   "metadata": {
    "collapsed": true
   },
   "outputs": [],
   "source": [
    "if(\"notebooks\" not in os.getcwd()):\n",
    "    os.chdir(\"../../notebooks\")\n",
    "\n",
    "augurApp = augur.Application('../augur.config.json')\n",
    "\n",
    "connect = augurApp.ghtorrentplus()"
   ]
  },
  {
   "cell_type": "code",
   "execution_count": 3,
   "metadata": {},
   "outputs": [
    {
     "name": "stdout",
     "output_type": "stream",
     "text": [
      "['github_issues', 'github_issues_2', 'github_issues_repo_jobs', 'github_issues_sentiment_scores', 'github_issues_sentiment_scores_senticr', 'github_pull_request_repo_jobs', 'github_pull_requests', 'github_pull_requests_2', 'github_pull_requests_sentiment_scores', 'github_pull_requests_sentiment_scores_2', 'github_pull_requests_sentiment_scores_senticr', 'issue_response_time', 'issue_response_time2', 'issue_response_time_3', 'mail_lists', 'mail_lists_sentiment_scores_nltk', 'mail_lists_sentiment_scores_senticr', 'mailing_list_jobs', 'profane_words']\n",
      "         project\n",
      "0  gluster-users\n",
      "1       announce\n",
      "2  gluster-devel\n",
      "3  gluster-infra\n",
      "4     aalldp-dev\n"
     ]
    }
   ],
   "source": [
    "table_names = s.inspect(connect.db).get_table_names()\n",
    "print(table_names)\n",
    "\n",
    "if(\"mailing_list_jobs\" in table_names):\n",
    "    lists_createdSQL = s.sql.text(\"\"\"SELECT project FROM mailing_list_jobs\"\"\")\n",
    "    df1 = pd.read_sql(lists_createdSQL, connect.db)\n",
    "    print(df1)\n",
    "    val = True"
   ]
  },
  {
   "cell_type": "code",
   "execution_count": 4,
   "metadata": {},
   "outputs": [
    {
     "name": "stdout",
     "output_type": "stream",
     "text": [
      "gluster-users Mailing List\n",
      "announce Mailing List\n",
      "gluster-devel Mailing List\n",
      "gluster-infra Mailing List\n",
      "aalldp-dev Mailing List\n"
     ]
    }
   ],
   "source": [
    "for i in df1['project'].values:\n",
    "    print(i,\"Mailing List\")\n",
    "    SQL = s.sql.text(\"\"\"SELECT * \n",
    "    FROM mail_lists WHERE mailing_list = \"\"\" +  \"'\" + \"aalldp-dev\" + \"'\")\n",
    "    df2 = pd.read_sql(SQL, connect.db)\n",
    "    #print(df2)"
   ]
  },
  {
   "cell_type": "code",
   "execution_count": 5,
   "metadata": {},
   "outputs": [
    {
     "name": "stdout",
     "output_type": "stream",
     "text": [
      "Here\n",
      "Here\n",
      "Here\n",
      "Here\n",
      "Here\n",
      "Here\n"
     ]
    }
   ],
   "source": [
    "current_user = []\n",
    "first_email = []\n",
    "for i in range(len(df2)):\n",
    "    name = df2['message_from'][i]\n",
    "    if(name in current_user):\n",
    "        print(\"Here\")\n",
    "        continue\n",
    "    augurmsgID = df2['augurmsgID'][i]\n",
    "    current_user.append(name)\n",
    "    first_email.append(augurmsgID)\n",
    "    #print(df2['augurmsgID'][i],df2['message_from'][i])"
   ]
  },
  {
   "cell_type": "code",
   "execution_count": 6,
   "metadata": {},
   "outputs": [],
   "source": [
    "#print(current_user)"
   ]
  },
  {
   "cell_type": "code",
   "execution_count": 7,
   "metadata": {},
   "outputs": [
    {
     "name": "stdout",
     "output_type": "stream",
     "text": [
      "True\n"
     ]
    }
   ],
   "source": [
    "print('An.Ho at huawei.com (An Ho)' in current_user)"
   ]
  }
 ],
 "metadata": {
  "kernelspec": {
   "display_name": "Python (augur)",
   "language": "python",
   "name": "augur"
  },
  "language_info": {
   "codemirror_mode": {
    "name": "ipython",
    "version": 3
   },
   "file_extension": ".py",
   "mimetype": "text/x-python",
   "name": "python",
   "nbconvert_exporter": "python",
   "pygments_lexer": "ipython3",
   "version": "3.6.5"
  }
 },
 "nbformat": 4,
 "nbformat_minor": 2
}
