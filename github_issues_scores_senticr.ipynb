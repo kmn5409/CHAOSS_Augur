{
 "cells": [
  {
   "cell_type": "code",
   "execution_count": 1,
   "metadata": {
    "collapsed": true
   },
   "outputs": [],
   "source": [
    "import os,json\n",
    "import sys\n",
    "import augur\n",
    "import sqlalchemy as s\n",
    "import numpy as np\n",
    "import pandas as pd\n",
    "from scipy import stats\n",
    "import matplotlib.pyplot as plot\n",
    "import matplotlib.dates as mdates\n",
    "import datetime as dt\n",
    "#!{sys.executable} -m pip install sklearn\n",
    "#!{sys.executable} -m pip install xlrd\n",
    "#!{sys.executable} -m pip install imblearn"
   ]
  },
  {
   "cell_type": "code",
   "execution_count": 2,
   "metadata": {},
   "outputs": [
    {
     "name": "stdout",
     "output_type": "stream",
     "text": [
      "/home/keanu/temp/augur_push/augur5/augur/SentiCR\n",
      "/home/keanu/temp/augur_push/augur5/augur/SentiCR/SentiCR\n",
      "Reading data from oracle..\n",
      "Training classifier model..\n"
     ]
    },
    {
     "name": "stderr",
     "output_type": "stream",
     "text": [
      "/home/keanu/anaconda3/envs/augur/lib/python3.6/site-packages/sklearn/utils/deprecation.py:77: DeprecationWarning: Function _ratio_float is deprecated; Use a float for 'ratio' is deprecated from version 0.2. The support will be removed in 0.4. Use a dict, str, or a callable instead.\n",
      "  warnings.warn(msg, category=DeprecationWarning)\n"
     ]
    },
    {
     "name": "stdout",
     "output_type": "stream",
     "text": [
      "['github_issues', 'github_issues_2', 'github_issues_repo_jobs', 'github_issues_sentiment_scores', 'github_pull_request_repo_jobs', 'github_pull_requests', 'github_pull_requests_2', 'github_pull_requests_sentiment_scores', 'github_pull_requests_sentiment_scores_2', 'issue_response_time', 'mail_lists', 'mail_lists_sentiment_scores', 'mail_lists_sentiment_scores_senticr', 'mailing_list_jobs']\n",
      "   augurmsgID backend_name                      repo_link   owner repo  \\\n",
      "0           1       GitHub  https://github.com/nodejs/CTC  nodejs  CTC   \n",
      "1           2       GitHub  https://github.com/nodejs/CTC  nodejs  CTC   \n",
      "2           3       GitHub  https://github.com/nodejs/CTC  nodejs  CTC   \n",
      "3           4       GitHub  https://github.com/nodejs/CTC  nodejs  CTC   \n",
      "4           5       GitHub  https://github.com/nodejs/CTC  nodejs  CTC   \n",
      "\n",
      "                 subject  status category  issue_number            timestamp  \\\n",
      "0  Purpose of nodejs/CTC  closed    issue             1  2016-06-09 12:43:54   \n",
      "1  Purpose of nodejs/CTC  closed    issue             1  2016-06-09 12:53:53   \n",
      "2  Purpose of nodejs/CTC  closed    issue             1  2016-06-09 13:34:16   \n",
      "3  Purpose of nodejs/CTC  closed    issue             1  2016-06-09 13:57:58   \n",
      "4  Purpose of nodejs/CTC  closed    issue             1  2016-06-09 13:59:05   \n",
      "\n",
      "    issue_id         user                                               body  \n",
      "0  159398443        rvagg  @nodejs/collaborators I'm not sure if this is ...  \n",
      "1  159398443  vkurchatkin             > Core Technical Team (CTC)\\n\\nTypo?\\n  \n",
      "2  159398443        rvagg                       blerh, yes, fixing, thanks\\n  \n",
      "3  159398443   benjamingr  If I want to being an issue to the CTC's atten...  \n",
      "4  159398443   benjamingr  > Issues that Node.js needs to begin consideri...  \n",
      "      augurmsgID backend_name                      repo_link   owner repo  \\\n",
      "6707        6708       GitHub  https://github.com/nodejs/TSC  nodejs  TSC   \n",
      "6708        6709       GitHub  https://github.com/nodejs/TSC  nodejs  TSC   \n",
      "6709        6710       GitHub  https://github.com/nodejs/TSC  nodejs  TSC   \n",
      "6710        6711       GitHub  https://github.com/nodejs/TSC  nodejs  TSC   \n",
      "6711        6712       GitHub  https://github.com/nodejs/TSC  nodejs  TSC   \n",
      "\n",
      "                                                subject status category  \\\n",
      "6707  Proposal: add all new core modules under a sco...   open    issue   \n",
      "6708  Proposal: add all new core modules under a sco...   open    issue   \n",
      "6709  Proposal: add all new core modules under a sco...   open    issue   \n",
      "6710  Proposal: add all new core modules under a sco...   open    issue   \n",
      "6711  Proposal: add all new core modules under a sco...   open    issue   \n",
      "\n",
      "      issue_number            timestamp   issue_id        user  \\\n",
      "6707           389  2018-08-01 14:41:02  266702892    mhdawson   \n",
      "6708           389  2018-08-01 15:10:37  266702892      ljharb   \n",
      "6709           389  2018-08-02 14:44:17  266702892  benjamingr   \n",
      "6710           389  2018-08-02 17:20:02  266702892      ljharb   \n",
      "6711           389  2018-08-02 22:25:45  266702892    mhdawson   \n",
      "\n",
      "                                                   body  \n",
      "6707  In the last TSC meeting we discussed again, th...  \n",
      "6708  @mhdawson i think the list would either be “em...  \n",
      "6709  I'm +1 on moving existing modules with new API...  \n",
      "6710  I think creating new APIs while moving existin...  \n",
      "6711  @ljharb I think the key point was that we shou...  \n"
     ]
    }
   ],
   "source": [
    "if(\"notebooks\" in os.getcwd()):\n",
    "    os.chdir(\"../SentiCR\")\n",
    "    from SentiCR.SentiCR import SentiCR\n",
    "\n",
    "sentiment_analyzer = SentiCR()\n",
    "\n",
    "if(\"notebooks\" not in os.getcwd()):\n",
    "    os.chdir(\"../../notebooks\")\n",
    "    \n",
    "augurApp = augur.Application('../augur.config.json')\n",
    "connect,list1,path = augurApp.github_issues()\n",
    "DB_STR = 'mysql+pymysql://{}:{}@{}:{}/{}?charset=utf8'.format(\n",
    "            list1[0], list1[1], list1[2],\\\n",
    "            list1[3], list1[4]\n",
    "        )\n",
    "db = s.create_engine(DB_STR)\n",
    "\n",
    "table_names = s.inspect(db).get_table_names()\n",
    "print(table_names)\n",
    "\n",
    "if(\"github_issues_2\" in table_names):\n",
    "    lists_createdSQL = s.sql.text(\"\"\"SELECT repo FROM github_issues_2\"\"\")\n",
    "    df1 = pd.read_sql(lists_createdSQL, db)\n",
    "    #print(df1)\n",
    "    val = True\n",
    "\n",
    "    \n",
    "col = 'score','sentiment'\n",
    "\n",
    "SQL = \"\"\"SELECT * FROM github_issues_2\"\"\"\n",
    "df_users =  pd.read_sql(SQL, db)\n",
    "print(df_users.head())\n",
    "print(df_users.tail())"
   ]
  },
  {
   "cell_type": "code",
   "execution_count": 3,
   "metadata": {},
   "outputs": [
    {
     "name": "stdout",
     "output_type": "stream",
     "text": [
      "481\n"
     ]
    }
   ],
   "source": [
    "grouped = df_users.groupby('subject').groups\n",
    "num = 0\n",
    "col = 'score','sentiment'\n",
    "columns1 = 'augurmsgID',\"backend_name\",'repo_link',\"owner\",\"repo\",\"subject\",\\\n",
    "          \"status\",\"category\",\"issue_number\",\"timestamp\",\\\n",
    "          \"issue_id\",\"user\",\"body\"\n",
    "df3 = pd.DataFrame(columns=col)\n",
    "df_list = pd.DataFrame(columns = columns1)\n",
    "df_list = df_list.append(df_users)\n",
    "for group in grouped:\n",
    "    #print(group)\n",
    "    issue_num = (df_users.loc[df_users['subject'] == group]['issue_number']).values\n",
    "    messages = (df_users.loc[df_users['subject'] == group]['body']).tolist()\n",
    "    id1 = (df_users.loc[df_users['subject'] == group]['body']).tolist()\n",
    "    #print(\"Issue number: \",issue_num[0])\n",
    "    #break\n",
    "    for i in messages:\n",
    "        #print(i)\n",
    "        score=sentiment_analyzer.get_sentiment_polarity(i)\n",
    "        score = int(score[0])\n",
    "        compound = parts = 0\n",
    "        sentiment = \"Positive\"\n",
    "        if(score == -1):\n",
    "            sentiment = \"Negative\"\n",
    "        li = [ [score,sentiment]]\n",
    "        df_temp = pd.DataFrame(li,columns=col)\n",
    "        df3 = df3.append(df_temp)\n",
    "        #if(avg < -0.5):\n",
    "            #print(i,avg)\n",
    "            #print(\"\\n\\n\\n\\n\\n\\n\")\n",
    "    #if(num == 40):\n",
    "    #    break\n",
    "    num+=1\n",
    "    #print(\"\\n\\n\\n\")\n",
    "print(num)"
   ]
  },
  {
   "cell_type": "code",
   "execution_count": 4,
   "metadata": {},
   "outputs": [
    {
     "name": "stdout",
     "output_type": "stream",
     "text": [
      "  augurmsgID backend_name                      repo_link   owner repo  \\\n",
      "0          1       GitHub  https://github.com/nodejs/CTC  nodejs  CTC   \n",
      "1          2       GitHub  https://github.com/nodejs/CTC  nodejs  CTC   \n",
      "2          3       GitHub  https://github.com/nodejs/CTC  nodejs  CTC   \n",
      "3          4       GitHub  https://github.com/nodejs/CTC  nodejs  CTC   \n",
      "4          5       GitHub  https://github.com/nodejs/CTC  nodejs  CTC   \n",
      "\n",
      "                 subject  status category issue_number            timestamp  \\\n",
      "0  Purpose of nodejs/CTC  closed    issue            1  2016-06-09 12:43:54   \n",
      "1  Purpose of nodejs/CTC  closed    issue            1  2016-06-09 12:53:53   \n",
      "2  Purpose of nodejs/CTC  closed    issue            1  2016-06-09 13:34:16   \n",
      "3  Purpose of nodejs/CTC  closed    issue            1  2016-06-09 13:57:58   \n",
      "4  Purpose of nodejs/CTC  closed    issue            1  2016-06-09 13:59:05   \n",
      "\n",
      "    issue_id         user                                               body  \\\n",
      "0  159398443        rvagg  @nodejs/collaborators I'm not sure if this is ...   \n",
      "1  159398443  vkurchatkin             > Core Technical Team (CTC)\\n\\nTypo?\\n   \n",
      "2  159398443        rvagg                       blerh, yes, fixing, thanks\\n   \n",
      "3  159398443   benjamingr  If I want to being an issue to the CTC's atten...   \n",
      "4  159398443   benjamingr  > Issues that Node.js needs to begin consideri...   \n",
      "\n",
      "  score sentiment  \n",
      "0    -1  Negative  \n",
      "1     0  Positive  \n",
      "2    -1  Negative  \n",
      "3    -1  Negative  \n",
      "4    -1  Negative  \n"
     ]
    }
   ],
   "source": [
    "#print(df3)\n",
    "#print(df_list)\n",
    "df3 = df3.reset_index(drop=True)\n",
    "#print(df3.head())\n",
    "df_list = df_list.reset_index(drop=True)\n",
    "combine = (df_list.join(df3))\n",
    "\n",
    "print(combine.head())\n",
    "\n",
    "combine.to_sql(name='github_issues_sentiment_scores_senticr',\\\n",
    "               con=db,if_exists='replace',index=False)"
   ]
  },
  {
   "cell_type": "code",
   "execution_count": 6,
   "metadata": {},
   "outputs": [
    {
     "name": "stdout",
     "output_type": "stream",
     "text": [
      "(126,)\n",
      "(126,)\n"
     ]
    },
    {
     "data": {
      "image/png": "[encoded data removed]",
      "text/plain": [
       "<Figure size 432x288 with 1 Axes>"
      ]
     },
     "metadata": {},
     "output_type": "display_data"
    },
    {
     "name": "stdout",
     "output_type": "stream",
     "text": [
      "(357,)\n",
      "(357,)\n"
     ]
    },
    {
     "data": {
      "image/png": "[encoded data removed]",
      "text/plain": [
       "<Figure size 432x288 with 1 Axes>"
      ]
     },
     "metadata": {},
     "output_type": "display_data"
    }
   ],
   "source": [
    "repos = combine.groupby('repo_link')\n",
    "x = 0\n",
    "for repo in repos:\n",
    "    fin_dates = []\n",
    "    fin_values = []\n",
    "    dates = []\n",
    "    values = []\n",
    "    mail_list = None\n",
    "    j = 0\n",
    "    rep = (combine.loc[combine['repo_link'] == repo[0]])\n",
    "    grouped = rep.groupby('subject').groups\n",
    "    for group in grouped:\n",
    "        #print(group)\n",
    "        dates = (combine.loc[combine['subject'] == group]['timestamp']).tolist()\n",
    "        values = []\n",
    "        for val in dates:\n",
    "            #print(val)\n",
    "            values.append((combine.loc[combine['timestamp'] == val]['score']).tolist()[0])\n",
    "        #print(\"Issue number: \",issue_num[0])\n",
    "        x = np.array(dates)\n",
    "        dates = np.unique(x)\n",
    "        #print(type(x[0]))\n",
    "        #print(dates)\n",
    "        dates = [dt.datetime.strptime(d[:10],'%Y-%m-%d').date() for d in x]\n",
    "        #print(dates)\n",
    "        dates1 = [x for x in dates]\n",
    "        values = sum(values[0:len(values)])/len(values)\n",
    "        if(values >= -0.5):\n",
    "            values = 0\n",
    "        else:\n",
    "            values = -1\n",
    "        fin_dates.append(dates1[0])\n",
    "        fin_values.append(values)\n",
    "        num+=1\n",
    "        j+=1\n",
    "    fin_dates = mdates.date2num(fin_dates)\n",
    "    fin_values = np.asarray(fin_values)\n",
    "    print(fin_dates.shape)\n",
    "    print(fin_values.shape)\n",
    "    plot.plot_date(fin_dates, fin_values)\n",
    "    #plot.plot(fin_dates,fin_values)\n",
    "    plot.gcf().autofmt_xdate()\n",
    "    plot.title(\"Issues: \"+ str(repo[0]))\n",
    "    plot.ylabel('Score')\n",
    "    plot.xlabel('Date')\n",
    "    #print(fin_dates)\n",
    "    slope, intercept, r_value, p_value, std_err = stats.linregress(fin_dates,fin_values)\n",
    "    line = slope*fin_dates+intercept\n",
    "    plot.plot(fin_dates,fin_values,'o', fin_dates, line)\n",
    "    #plot.savefig('foo' + str(x) + '.png')\n",
    "    #x+=1\n",
    "    plot.show()"
   ]
  }
 ],
 "metadata": {
  "kernelspec": {
   "display_name": "Python (augur)",
   "language": "python",
   "name": "augur"
  },
  "language_info": {
   "codemirror_mode": {
    "name": "ipython",
    "version": 3
   },
   "file_extension": ".py",
   "mimetype": "text/x-python",
   "name": "python",
   "nbconvert_exporter": "python",
   "pygments_lexer": "ipython3",
   "version": "3.6.5"
  }
 },
 "nbformat": 4,
 "nbformat_minor": 2
}
