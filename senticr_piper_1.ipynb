{
 "cells": [
  {
   "cell_type": "code",
   "execution_count": 1,
   "metadata": {
    "collapsed": true,
    "scrolled": true
   },
   "outputs": [],
   "source": [
    "import os,json\n",
    "import sys\n",
    "import augur\n",
    "import sqlalchemy as s\n",
    "import numpy as np\n",
    "import pandas as pd\n",
    "from scipy import stats\n",
    "import matplotlib.pyplot as plot\n",
    "import matplotlib.dates as mdates\n",
    "#!{sys.executable} -m pip install sklearn\n",
    "#!{sys.executable} -m pip install xlrd\n",
    "#!{sys.executable} -m pip install imblearn"
   ]
  },
  {
   "cell_type": "code",
   "execution_count": 2,
   "metadata": {},
   "outputs": [
    {
     "name": "stdout",
     "output_type": "stream",
     "text": [
      "/home/keanu/temp/augur_push/augur5/augur/SentiCR\n",
      "/home/keanu/temp/augur_push/augur5/augur/SentiCR/SentiCR\n",
      "Reading data from oracle..\n",
      "Training classifier model..\n"
     ]
    },
    {
     "name": "stderr",
     "output_type": "stream",
     "text": [
      "/home/keanu/anaconda3/envs/augur/lib/python3.6/site-packages/sklearn/utils/deprecation.py:77: DeprecationWarning: Function _ratio_float is deprecated; Use a float for 'ratio' is deprecated from version 0.2. The support will be removed in 0.4. Use a dict, str, or a callable instead.\n",
      "  warnings.warn(msg, category=DeprecationWarning)\n"
     ]
    }
   ],
   "source": [
    "if(\"notebooks\" in os.getcwd()):\n",
    "    os.chdir(\"../SentiCR\")\n",
    "    from SentiCR.SentiCR import SentiCR\n",
    "\n",
    "sentiment_analyzer = SentiCR()\n",
    "\n",
    "if(\"notebooks\" not in os.getcwd()):\n",
    "    os.chdir(\"../../notebooks\")\n",
    "\n",
    "augurApp = augur.Application('../augur.config.json')\n",
    "\n",
    "connect = augurApp.ghtorrentplus()"
   ]
  },
  {
   "cell_type": "code",
   "execution_count": 3,
   "metadata": {},
   "outputs": [
    {
     "name": "stdout",
     "output_type": "stream",
     "text": [
      "['github_issues', 'github_issues_2', 'github_issues_repo_jobs', 'github_issues_sentiment_scores', 'github_issues_sentiment_scores_senticr', 'github_pull_request_repo_jobs', 'github_pull_requests', 'github_pull_requests_2', 'github_pull_requests_sentiment_scores', 'github_pull_requests_sentiment_scores_2', 'github_pull_requests_sentiment_scores_senticr', 'issue_response_time', 'issue_response_time2', 'issue_response_time_3', 'mail_lists', 'mail_lists_sentiment_scores', 'mail_lists_sentiment_scores_senticr', 'mailing_list_jobs']\n",
      "         project\n",
      "0  gluster-users\n",
      "1     aalldp-dev\n"
     ]
    }
   ],
   "source": [
    "table_names = s.inspect(connect.db).get_table_names()\n",
    "print(table_names)\n",
    "\n",
    "if(\"mailing_list_jobs\" in table_names):\n",
    "    lists_createdSQL = s.sql.text(\"\"\"SELECT project FROM mailing_list_jobs\"\"\")\n",
    "    df1 = pd.read_sql(lists_createdSQL, connect.db)\n",
    "    print(df1)\n",
    "    val = True"
   ]
  },
  {
   "cell_type": "code",
   "execution_count": 4,
   "metadata": {},
   "outputs": [
    {
     "name": "stdout",
     "output_type": "stream",
     "text": [
      "gluster-users Mailing List\n",
      "Here!!!!\n",
      "\n",
      "\n",
      "\n",
      "aalldp-dev Mailing List\n",
      "Here!!!!\n",
      "\n",
      "\n",
      "\n"
     ]
    }
   ],
   "source": [
    "col = 'score','sentiment'\n",
    "columns1 = 'augurmsgID', 'backend_name','project','mailing_list','category',\\\n",
    "           'message_part','message_parts_tot', 'subject','date',\\\n",
    "           'message_from','message_id','message_text'\n",
    "df3 = pd.DataFrame(columns = col)\n",
    "df_list = pd.DataFrame(columns = columns1)\n",
    "for i in df1['project'].values:\n",
    "    print(i,\"Mailing List\")\n",
    "    SQL = s.sql.text(\"\"\"SELECT * \n",
    "    FROM mail_lists WHERE mailing_list = \"\"\" +  \"'\" + i + \"'\")\n",
    "    df2 = pd.read_sql(SQL, connect.db)\n",
    "    df_list = df_list.append(df2)\n",
    "    #print(df2)\n",
    "    grouped = df2.groupby('message_id').groups\n",
    "    print(\"Here!!!!\")\n",
    "    #print(\"\\n\\n\",\"-\"*70,\"\\n\\n\")\n",
    "    for group in grouped:\n",
    "        parts = 0\n",
    "        numb = len(df2.loc[df2['message_id'] == group]['message_parts_tot'].tolist())\n",
    "        message = (df2.loc[df2['message_id'] == group]['message_text']).tolist()\n",
    "        message_text = ''.join(message)\n",
    "        #print(message_text)\n",
    "        score=sentiment_analyzer.get_sentiment_polarity(message_text)\n",
    "        score = int(score[0])\n",
    "        compound = parts = 0\n",
    "        sentiment = \"Positive\"\n",
    "        if(score == -1):\n",
    "            sentiment = \"Negative\"\n",
    "        #print(message)\n",
    "        for i in range(numb):\n",
    "            li = [ [score, sentiment] ]\n",
    "            df_temp = pd.DataFrame(li,columns = col)\n",
    "            #print(df_temp['score'])\n",
    "            df3 = df3.append(df_temp)\n",
    "            #print(df3)\n",
    "    print(\"\\n\\n\")"
   ]
  },
  {
   "cell_type": "code",
   "execution_count": 5,
   "metadata": {},
   "outputs": [
    {
     "name": "stdout",
     "output_type": "stream",
     "text": [
      "  augurmsgID backend_name                                            project  \\\n",
      "0          1    Pipermail  https://lists.gluster.org/pipermail/gluster-us...   \n",
      "1          2    Pipermail  https://lists.gluster.org/pipermail/gluster-us...   \n",
      "2          3    Pipermail  https://lists.gluster.org/pipermail/gluster-us...   \n",
      "3          4    Pipermail  https://lists.gluster.org/pipermail/gluster-us...   \n",
      "4          5    Pipermail  https://lists.gluster.org/pipermail/gluster-us...   \n",
      "\n",
      "    mailing_list category message_part message_parts_tot  \\\n",
      "0  gluster-users  message            1                 2   \n",
      "1  gluster-users  message            2                 2   \n",
      "2  gluster-users  message            1                 2   \n",
      "3  gluster-users  message            2                 2   \n",
      "4  gluster-users  message            1                 3   \n",
      "\n",
      "                                             subject                date  \\\n",
      "0    [Gluster-users] glusterfs 3.1.0 disable-io-mode 2010-12-02 02:20:01   \n",
      "1    [Gluster-users] glusterfs 3.1.0 disable-io-mode 2010-12-02 02:20:01   \n",
      "2  [Gluster-users] Who's using Fedora in producti... 2010-12-02 12:34:11   \n",
      "3  [Gluster-users] Who's using Fedora in producti... 2010-12-02 12:34:11   \n",
      "4  [Gluster-users] RDMA Problems with GlusterFS 3... 2010-12-02 04:30:20   \n",
      "\n",
      "                                        message_from  \\\n",
      "0             kkakas at yahoo.gr (Kakaletris Kostas)   \n",
      "1             kkakas at yahoo.gr (Kakaletris Kostas)   \n",
      "2  mrogers at valuecommerce.co.jp (Mark \"Naoki\" R...   \n",
      "3  mrogers at valuecommerce.co.jp (Mark \"Naoki\" R...   \n",
      "4           stout.jeremy at gmail.com (Jeremy Stout)   \n",
      "\n",
      "                                          message_id  \\\n",
      "0                        <4CF6E631.3090805@yahoo.gr>   \n",
      "1                        <4CF6E631.3090805@yahoo.gr>   \n",
      "2               <4CF713B3.20904@valuecommerce.co.jp>   \n",
      "3               <4CF713B3.20904@valuecommerce.co.jp>   \n",
      "4  <AANLkTikd0VkCTSVWNDRBrRQ1_6HWbgFWJJ7ACGqzDFhT...   \n",
      "\n",
      "                                        message_text score sentiment  \n",
      "0   From what i remember i tried and the followin...    -1  Negative  \n",
      "1  sterfs -o direct-io-mode=off\\nmount -t gluster...    -1  Negative  \n",
      "2  Hi James,\\n\\nI'm using 3.1.1 on six bricks in ...    -1  Negative  \n",
      "3  n fedora12/13/14. I build the RPMs from source...    -1  Negative  \n",
      "4  As an update to my situation, I think I have G...    -1  Negative  \n",
      "(50482, 14)\n"
     ]
    }
   ],
   "source": [
    "df3 = df3.reset_index(drop=True)\n",
    "df_list = df_list.reset_index(drop=True)\n",
    "combine = (df_list.join(df3))\n",
    "\n",
    "print(combine.head())\n",
    "print(combine.shape)\n",
    "combine.to_sql(name='mail_lists_sentiment_scores_senticr',con=connect.db,\\\n",
    "               if_exists='replace',index=False)"
   ]
  },
  {
   "cell_type": "code",
   "execution_count": 6,
   "metadata": {},
   "outputs": [
    {
     "name": "stdout",
     "output_type": "stream",
     "text": [
      "(10,)\n",
      "(10,)\n"
     ]
    },
    {
     "data": {
      "image/png": "[encoded data removed]",
      "text/plain": [
       "<Figure size 432x288 with 1 Axes>"
      ]
     },
     "metadata": {},
     "output_type": "display_data"
    },
    {
     "name": "stdout",
     "output_type": "stream",
     "text": [
      "(50472,)\n",
      "(50472,)\n"
     ]
    },
    {
     "data": {
      "image/png": "[encoded data removed]",
      "text/plain": [
       "<Figure size 432x288 with 1 Axes>"
      ]
     },
     "metadata": {},
     "output_type": "display_data"
    }
   ],
   "source": [
    "grouped = combine.groupby('mailing_list').groups\n",
    "dates = []\n",
    "mail_list = None\n",
    "j = 0\n",
    "for group in grouped:\n",
    "    dates = (combine.loc[combine['mailing_list'] == group]['date']).tolist()\n",
    "    values = []\n",
    "    for val in dates:\n",
    "        #print(val)\n",
    "        values.append((combine.loc[combine['date'] == val]['score']).tolist()[0])\n",
    "    #values = (combine.loc[combine['mailing_list'] == group]['score']).unique().tolist()\n",
    "    x = np.array(dates)\n",
    "    #dates = np.unique(x)\n",
    "    #print(dates)\n",
    "    dates1 = [r.to_pydatetime() for r in x]\n",
    "    fin_dates = mdates.date2num(dates1)\n",
    "    fin_values = np.asarray(values)\n",
    "    print(fin_dates.shape)\n",
    "    print(fin_values.shape)\n",
    "    plot.plot_date(fin_dates, fin_values)\n",
    "    #plot.plot(fin_dates,fin_values)\n",
    "    plot.gcf().autofmt_xdate()\n",
    "    plot.title(\"Mailing lst: \"+ group)\n",
    "    plot.ylabel('Score')\n",
    "    plot.xlabel('Date')\n",
    "    #print(fin_dates)\n",
    "    slope, intercept, r_value, p_value, std_err = stats.linregress(fin_dates,fin_values)\n",
    "    line = slope*fin_dates+intercept\n",
    "    plot.plot(fin_dates,fin_values,'o', fin_dates, line)\n",
    "    #plot.savefig('foo' + str(x) + '.png')\n",
    "    #x+=1\n",
    "    plot.show()"
   ]
  }
 ],
 "metadata": {
  "kernelspec": {
   "display_name": "Python (augur)",
   "language": "python",
   "name": "augur"
  },
  "language_info": {
   "codemirror_mode": {
    "name": "ipython",
    "version": 3
   },
   "file_extension": ".py",
   "mimetype": "text/x-python",
   "name": "python",
   "nbconvert_exporter": "python",
   "pygments_lexer": "ipython3",
   "version": "3.6.5"
  }
 },
 "nbformat": 4,
 "nbformat_minor": 2
}
