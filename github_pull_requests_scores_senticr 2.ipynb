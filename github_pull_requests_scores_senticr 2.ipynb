{
 "cells": [
  {
   "cell_type": "code",
   "execution_count": 1,
   "metadata": {
    "collapsed": true
   },
   "outputs": [],
   "source": [
    "import os,json\n",
    "import sys\n",
    "import augur\n",
    "import sqlalchemy as s\n",
    "import numpy as np\n",
    "import pandas as pd\n",
    "from scipy import stats\n",
    "import matplotlib.pyplot as plot\n",
    "import matplotlib.dates as mdates\n",
    "import datetime as dt\n",
    "#!{sys.executable} -m pip install sklearn\n",
    "#!{sys.executable} -m pip install xlrd\n",
    "#!{sys.executable} -m pip install imblearn"
   ]
  },
  {
   "cell_type": "code",
   "execution_count": 2,
   "metadata": {},
   "outputs": [
    {
     "name": "stdout",
     "output_type": "stream",
     "text": [
      "/home/keanu/temp/augur_push/augur5/augur/SentiCR\n",
      "/home/keanu/temp/augur_push/augur5/augur/SentiCR/SentiCR\n",
      "Reading data from oracle..\n",
      "Training classifier model..\n"
     ]
    },
    {
     "name": "stderr",
     "output_type": "stream",
     "text": [
      "/home/keanu/anaconda3/envs/augur/lib/python3.6/site-packages/sklearn/utils/deprecation.py:77: DeprecationWarning: Function _ratio_float is deprecated; Use a float for 'ratio' is deprecated from version 0.2. The support will be removed in 0.4. Use a dict, str, or a callable instead.\n",
      "  warnings.warn(msg, category=DeprecationWarning)\n"
     ]
    },
    {
     "name": "stdout",
     "output_type": "stream",
     "text": [
      "['github_issues', 'github_issues_2', 'github_issues_repo_jobs', 'github_issues_sentiment_scores', 'github_issues_sentiment_scores_senticr', 'github_pull_request_repo_jobs', 'github_pull_requests', 'github_pull_requests_2', 'github_pull_requests_sentiment_scores', 'github_pull_requests_sentiment_scores_2', 'issue_response_time', 'issue_response_time2', 'issue_response_time_3', 'mail_lists', 'mail_lists_sentiment_scores', 'mail_lists_sentiment_scores_senticr', 'mailing_list_jobs']\n",
      "   augurmsgID backend_name                      repo_link   owner repo  \\\n",
      "0           1       GitHub  https://github.com/nodejs/CTC  nodejs  CTC   \n",
      "1           2       GitHub  https://github.com/nodejs/CTC  nodejs  CTC   \n",
      "2           3       GitHub  https://github.com/nodejs/CTC  nodejs  CTC   \n",
      "3           4       GitHub  https://github.com/nodejs/CTC  nodejs  CTC   \n",
      "4           5       GitHub  https://github.com/nodejs/CTC  nodejs  CTC   \n",
      "\n",
      "                subject  status      category  pull_request_number  \\\n",
      "0  add meeting schedule  closed  pull_request                   18   \n",
      "1  add meeting schedule  closed  pull_request                   18   \n",
      "2  add meeting schedule  closed  pull_request                   18   \n",
      "3  add meeting schedule  closed  pull_request                   18   \n",
      "4  add meeting schedule  closed  pull_request                   18   \n",
      "\n",
      "                 date  pull_request_id          user  \\\n",
      "0 2016-10-06 04:03:18        181319945         Trott   \n",
      "1 2016-10-06 13:17:53        181319945      mhdawson   \n",
      "2 2016-10-06 21:16:54        181319945  williamkapke   \n",
      "3 2016-10-06 21:31:31        181319945       jasnell   \n",
      "4 2016-10-06 21:34:01        181319945   MylesBorins   \n",
      "\n",
      "                                                body  \n",
      "0  Not sure that the README is the best place for...  \n",
      "1                                             LGTM\\n  \n",
      "2  This is a bit of a tangent but.. should the Me...  \n",
      "3  I would definitely prefer the meeting notices ...  \n",
      "4                       +1 on meeting notices here\\n  \n",
      "      augurmsgID backend_name                          repo_link     owner  \\\n",
      "3778        3779       GitHub  https://github.com/torvalds/linux  torvalds   \n",
      "3779        3780       GitHub  https://github.com/torvalds/linux  torvalds   \n",
      "3780        3781       GitHub  https://github.com/torvalds/linux  torvalds   \n",
      "3781        3782       GitHub  https://github.com/torvalds/linux  torvalds   \n",
      "3782        3783       GitHub  https://github.com/torvalds/linux  torvalds   \n",
      "\n",
      "       repo                                         subject status  \\\n",
      "3778  linux                                         MD pull   open   \n",
      "3779  linux  Auzeuner DVB-T2 (Astrometa 2018) driver update   open   \n",
      "3780  linux  Auzeuner DVB-T2 (Astrometa 2018) driver update   open   \n",
      "3781  linux  Auzeuner DVB-T2 (Astrometa 2018) driver update   open   \n",
      "3782  linux  Auzeuner DVB-T2 (Astrometa 2018) driver update   open   \n",
      "\n",
      "          category  pull_request_number                date  pull_request_id  \\\n",
      "3778  pull_request                  568 2018-07-05 18:34:52        338681544   \n",
      "3779  pull_request                  567 2018-07-05 04:41:44        338425270   \n",
      "3780  pull_request                  567 2018-07-05 04:44:51        338425270   \n",
      "3781  pull_request                  567 2018-07-06 13:09:44        338425270   \n",
      "3782  pull_request                  567 2018-08-23 21:24:18        338425270   \n",
      "\n",
      "             user                                               body  \n",
      "3778  KernelPRBot  Hi @wburnett01!\\n\\nThanks for your contributio...  \n",
      "3779     kapitanf  Hi Linus,\\r\\n   here is rtl28xxu.c rtl28xxu.h ...  \n",
      "3780  KernelPRBot  Hi @kapitanf!\\n\\nThanks for your contribution ...  \n",
      "3781     kapitanf    Very helpful, many Thanks.\\r\\n\\r\\nRegards Filip  \n",
      "3782  negrumanuel  Hi Filip, \\r\\n\\r\\nDid you pursue this any furt...  \n"
     ]
    }
   ],
   "source": [
    "if(\"notebooks\" in os.getcwd()):\n",
    "    os.chdir(\"../SentiCR\")\n",
    "    from SentiCR.SentiCR import SentiCR\n",
    "\n",
    "sentiment_analyzer = SentiCR()\n",
    "\n",
    "if(\"notebooks\" not in os.getcwd()):\n",
    "    os.chdir(\"../../notebooks\")\n",
    "augurApp = augur.Application('../augur.config.json')\n",
    "connect,list1,path = augurApp.github_issues()\n",
    "DB_STR = 'mysql+pymysql://{}:{}@{}:{}/{}?charset=utf8'.format(\n",
    "            list1[0], list1[1], list1[2],\\\n",
    "            list1[3], list1[4]\n",
    "        )\n",
    "db = s.create_engine(DB_STR)\n",
    "\n",
    "table_names = s.inspect(db).get_table_names()\n",
    "print(table_names)\n",
    "\n",
    "if(\"github_pull_requests_2\" in table_names):\n",
    "    lists_createdSQL = s.sql.text(\"\"\"SELECT repo FROM github_pull_requests_2\"\"\")\n",
    "    df1 = pd.read_sql(lists_createdSQL, db)\n",
    "    #print(df1)\n",
    "    val = True\n",
    "\n",
    "col = 'score','sentiment'\n",
    "\n",
    "SQL = \"\"\"SELECT * FROM github_pull_requests_2\"\"\"\n",
    "df_users =  pd.read_sql(SQL, db)\n",
    "print(df_users.head())\n",
    "print(df_users.tail())"
   ]
  },
  {
   "cell_type": "code",
   "execution_count": 3,
   "metadata": {},
   "outputs": [
    {
     "name": "stdout",
     "output_type": "stream",
     "text": [
      "713\n"
     ]
    }
   ],
   "source": [
    "grouped = df_users.groupby('subject').groups\n",
    "num = 0\n",
    "col = 'score','sentiment'\n",
    "columns1 = 'augurmsgID',\"backend_name\",'repo_link',\"owner\",\"repo\",\"subject\",\\\n",
    "          \"status\",\"category\",\"pull_request_number\",\"date\",\\\n",
    "          \"pull_request_id\",\"user\",\"body\"\n",
    "df3 = pd.DataFrame(columns=col)\n",
    "df_list = pd.DataFrame(columns = columns1)\n",
    "df_list = df_list.append(df_users)\n",
    "for group in grouped:\n",
    "    #print(group)\n",
    "    issue_num = (df_users.loc[df_users['subject'] == group]['pull_request_number']).values\n",
    "    messages = (df_users.loc[df_users['subject'] == group]['body']).tolist()\n",
    "    id1 = (df_users.loc[df_users['subject'] == group]['body']).tolist()\n",
    "    #print(\"Issue number: \",issue_num[0])\n",
    "    #break\n",
    "    for i in messages:\n",
    "        #print(i)\n",
    "        if(i == None):\n",
    "            i = \" \"\n",
    "        score=sentiment_analyzer.get_sentiment_polarity(i)\n",
    "        score = int(score[0])\n",
    "        compound = parts = 0\n",
    "        sentiment = \"Positive\"\n",
    "        if(score == -1):\n",
    "            sentiment = \"Negative\"\n",
    "        li = [ [score,sentiment]]\n",
    "        df_temp = pd.DataFrame(li,columns=col)\n",
    "        df3 = df3.append(df_temp)\n",
    "        #if(avg < -0.5):\n",
    "            #print(i,avg)\n",
    "            #print(\"\\n\\n\\n\\n\\n\\n\")\n",
    "    #if(num == 40):\n",
    "    #    break\n",
    "    num+=1\n",
    "    #print(\"\\n\\n\\n\")\n",
    "print(num)"
   ]
  },
  {
   "cell_type": "code",
   "execution_count": 4,
   "metadata": {},
   "outputs": [
    {
     "name": "stdout",
     "output_type": "stream",
     "text": [
      "  augurmsgID backend_name                      repo_link   owner repo  \\\n",
      "0          1       GitHub  https://github.com/nodejs/CTC  nodejs  CTC   \n",
      "1          2       GitHub  https://github.com/nodejs/CTC  nodejs  CTC   \n",
      "2          3       GitHub  https://github.com/nodejs/CTC  nodejs  CTC   \n",
      "3          4       GitHub  https://github.com/nodejs/CTC  nodejs  CTC   \n",
      "4          5       GitHub  https://github.com/nodejs/CTC  nodejs  CTC   \n",
      "\n",
      "                subject  status      category pull_request_number  \\\n",
      "0  add meeting schedule  closed  pull_request                  18   \n",
      "1  add meeting schedule  closed  pull_request                  18   \n",
      "2  add meeting schedule  closed  pull_request                  18   \n",
      "3  add meeting schedule  closed  pull_request                  18   \n",
      "4  add meeting schedule  closed  pull_request                  18   \n",
      "\n",
      "                 date pull_request_id          user  \\\n",
      "0 2016-10-06 04:03:18       181319945         Trott   \n",
      "1 2016-10-06 13:17:53       181319945      mhdawson   \n",
      "2 2016-10-06 21:16:54       181319945  williamkapke   \n",
      "3 2016-10-06 21:31:31       181319945       jasnell   \n",
      "4 2016-10-06 21:34:01       181319945   MylesBorins   \n",
      "\n",
      "                                                body score sentiment  \n",
      "0  Not sure that the README is the best place for...     0  Positive  \n",
      "1                                             LGTM\\n     0  Positive  \n",
      "2  This is a bit of a tangent but.. should the Me...    -1  Negative  \n",
      "3  I would definitely prefer the meeting notices ...     0  Positive  \n",
      "4                       +1 on meeting notices here\\n     0  Positive  \n"
     ]
    }
   ],
   "source": [
    "#print(df3)\n",
    "#print(df_list)\n",
    "df3 = df3.reset_index(drop=True)\n",
    "#print(df3.head())\n",
    "df_list = df_list.reset_index(drop=True)\n",
    "combine = (df_list.join(df3))\n",
    "\n",
    "print(combine.head())\n",
    "\n",
    "combine.to_sql(name='github_pull_requests_sentiment_scores_senticr',\\\n",
    "               con=db,if_exists='replace',index=False)"
   ]
  },
  {
   "cell_type": "code",
   "execution_count": 5,
   "metadata": {},
   "outputs": [
    {
     "name": "stdout",
     "output_type": "stream",
     "text": [
      "(47,)\n",
      "(47,)\n"
     ]
    },
    {
     "data": {
      "image/png": "[encoded data removed]",
      "text/plain": [
       "<Figure size 432x288 with 1 Axes>"
      ]
     },
     "metadata": {},
     "output_type": "display_data"
    },
    {
     "name": "stdout",
     "output_type": "stream",
     "text": [
      "(216,)\n",
      "(216,)\n"
     ]
    },
    {
     "data": {
      "image/png": "[encoded data removed]",
      "text/plain": [
       "<Figure size 432x288 with 1 Axes>"
      ]
     },
     "metadata": {},
     "output_type": "display_data"
    },
    {
     "name": "stdout",
     "output_type": "stream",
     "text": [
      "(451,)\n",
      "(451,)\n"
     ]
    },
    {
     "data": {
      "image/png": "[encoded data removed]",
      "text/plain": [
       "<Figure size 432x288 with 1 Axes>"
      ]
     },
     "metadata": {},
     "output_type": "display_data"
    }
   ],
   "source": [
    "repos = combine.groupby('repo_link')\n",
    "x = 0\n",
    "for repo in repos:\n",
    "    fin_dates = []\n",
    "    fin_values = []\n",
    "    dates = []\n",
    "    values = []\n",
    "    mail_list = None\n",
    "    j = 0\n",
    "    rep = (combine.loc[combine['repo_link'] == repo[0]])\n",
    "    grouped = rep.groupby('subject').groups\n",
    "    for group in grouped:\n",
    "        #print(group)\n",
    "        dates = (combine.loc[combine['subject'] == group]['date']).tolist()\n",
    "        values = []\n",
    "        for val in dates:\n",
    "            #print(val)\n",
    "            values.append((combine.loc[combine['date'] == val]['score']).tolist()[0])\n",
    "        #print(\"Issue number: \",issue_num[0])\n",
    "        x = np.array(dates)\n",
    "        x = [str(k) for k in x]\n",
    "        dates = [dt.datetime.strptime(d[:10],'%Y-%m-%d').date() for d in x]\n",
    "        dates1 = [x for x in dates]\n",
    "        values = sum(values[0:len(values)])/len(values)\n",
    "        if(values >= -0.5):\n",
    "            values = 0\n",
    "        else:\n",
    "            values = -1\n",
    "        fin_dates.append(dates1[0])\n",
    "        fin_values.append(values)\n",
    "        num+=1\n",
    "        j+=1\n",
    "    fin_dates = mdates.date2num(fin_dates)\n",
    "    fin_values = np.asarray(fin_values)\n",
    "    print(fin_dates.shape)\n",
    "    print(fin_values.shape)\n",
    "    plot.plot_date(fin_dates, fin_values)\n",
    "    #plot.plot(fin_dates,fin_values)\n",
    "    plot.gcf().autofmt_xdate()\n",
    "    plot.title(\"Pull Requests: \"+ str(repo[0]))\n",
    "    plot.ylabel('Score')\n",
    "    plot.xlabel('Date')\n",
    "    #print(fin_dates)\n",
    "    slope, intercept, r_value, p_value, std_err = stats.linregress(fin_dates,fin_values)\n",
    "    line = slope*fin_dates+intercept\n",
    "    plot.plot(fin_dates,fin_values,'o', fin_dates, line)\n",
    "    #plot.savefig('foo' + str(x) + '.png')\n",
    "    #x+=1\n",
    "    plot.show()"
   ]
  }
 ],
 "metadata": {
  "kernelspec": {
   "display_name": "Python (augur)",
   "language": "python",
   "name": "augur"
  },
  "language_info": {
   "codemirror_mode": {
    "name": "ipython",
    "version": 3
   },
   "file_extension": ".py",
   "mimetype": "text/x-python",
   "name": "python",
   "nbconvert_exporter": "python",
   "pygments_lexer": "ipython3",
   "version": "3.6.5"
  }
 },
 "nbformat": 4,
 "nbformat_minor": 2
}
