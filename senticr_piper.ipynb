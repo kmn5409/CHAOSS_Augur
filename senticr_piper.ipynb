{
 "cells": [
  {
   "cell_type": "code",
   "execution_count": 1,
   "metadata": {
    "scrolled": true
   },
   "outputs": [],
   "source": [
    "import os,json\n",
    "import sys\n",
    "import augur\n",
    "import sqlalchemy as s\n",
    "import numpy as np\n",
    "import pandas as pd\n",
    "from scipy import stats\n",
    "import matplotlib.pyplot as plot\n",
    "import matplotlib.dates as mdates\n",
    "#!{sys.executable} -m pip install sklearn\n",
    "#!{sys.executable} -m pip install xlrd\n",
    "#!{sys.executable} -m pip install imblearn"
   ]
  },
  {
   "cell_type": "code",
   "execution_count": 2,
   "metadata": {},
   "outputs": [
    {
     "name": "stdout",
     "output_type": "stream",
     "text": [
      "/home/keanu/temp/augur_push/augur5/augur/SentiCR\n",
      "/home/keanu/temp/augur_push/augur5/augur/SentiCR/SentiCR\n"
     ]
    }
   ],
   "source": [
    "if(\"notebooks\" in os.getcwd()):\n",
    "    os.chdir(\"../SentiCR\")\n",
    "    from SentiCR.SentiCR import SentiCR\n",
    "\n",
    "sentiment_analyzer = SentiCR()\n",
    "\n",
    "if(\"notebooks\" not in os.getcwd()):\n",
    "    os.chdir(\"../../notebooks\")\n",
    "\n",
    "augurApp = augur.Application('../augur.config.json')\n",
    "\n",
    "connect = augurApp.ghtorrentplus()"
   ]
  },
  {
   "cell_type": "code",
   "execution_count": 5,
   "metadata": {},
   "outputs": [
    {
     "name": "stdout",
     "output_type": "stream",
     "text": [
      "['github_issues', 'github_issues_2', 'github_issues_repo_jobs', 'github_issues_sentiment_scores', 'github_pull_request_repo_jobs', 'github_pull_requests', 'github_pull_requests_2', 'github_pull_requests_sentiment_scores', 'github_pull_requests_sentiment_scores_2', 'issue_response_time', 'mail_lists', 'mail_lists_sentiment_scores', 'mailing_list_jobs']\n",
      "          project\n",
      "0      aalldp-dev\n",
      "1      aalldp-dev\n",
      "2  archetypes-dev\n",
      "3  archetypes-dev\n"
     ]
    }
   ],
   "source": [
    "table_names = s.inspect(connect.db).get_table_names()\n",
    "print(table_names)\n",
    "\n",
    "if(\"mailing_list_jobs\" in table_names):\n",
    "    lists_createdSQL = s.sql.text(\"\"\"SELECT project FROM mailing_list_jobs\"\"\")\n",
    "    df1 = pd.read_sql(lists_createdSQL, connect.db)\n",
    "    print(df1)\n",
    "    val = True"
   ]
  },
  {
   "cell_type": "code",
   "execution_count": 6,
   "metadata": {},
   "outputs": [
    {
     "name": "stdout",
     "output_type": "stream",
     "text": [
      "aalldp-dev Mailing List\n",
      "Here!!!!\n",
      "\n",
      "\n",
      "\n",
      "aalldp-dev Mailing List\n",
      "Here!!!!\n",
      "\n",
      "\n",
      "\n",
      "archetypes-dev Mailing List\n",
      "Here!!!!\n",
      "\n",
      "\n",
      "\n",
      "archetypes-dev Mailing List\n",
      "Here!!!!\n",
      "\n",
      "\n",
      "\n"
     ]
    }
   ],
   "source": [
    "col = 'score','sentiment'\n",
    "columns1 = 'augurmsgID', 'backend_name','project','mailing_list','category',\\\n",
    "           'message_part','message_parts_tot', 'subject','date',\\\n",
    "           'message_from','message_id','message_text'\n",
    "df3 = pd.DataFrame(columns = col)\n",
    "df_list = pd.DataFrame(columns = columns1)\n",
    "for i in df1['project'].values:\n",
    "    print(i,\"Mailing List\")\n",
    "    SQL = s.sql.text(\"\"\"SELECT * \n",
    "    FROM mail_lists WHERE mailing_list = \"\"\" +  \"'\" + i + \"'\")\n",
    "    df2 = pd.read_sql(SQL, connect.db)\n",
    "    df_list = df_list.append(df2)\n",
    "    #print(df2)\n",
    "    grouped = df2.groupby('message_id').groups\n",
    "    print(\"Here!!!!\")\n",
    "    #print(\"\\n\\n\",\"-\"*70,\"\\n\\n\")\n",
    "    for group in grouped:\n",
    "        parts = 0\n",
    "        numb = len(df2.loc[df2['message_id'] == group]['message_parts_tot'].tolist())\n",
    "        message = (df2.loc[df2['message_id'] == group]['message_text']).tolist()\n",
    "        message_text = ''.join(message)\n",
    "        #print(message_text)\n",
    "        score=sentiment_analyzer.get_sentiment_polarity(message_text)\n",
    "        score = int(score[0])\n",
    "        compound = parts = 0\n",
    "        sentiment = \"Positive\"\n",
    "        if(score == -1):\n",
    "            sentiment = \"Negative\"\n",
    "        #print(message)\n",
    "        for i in range(numb):\n",
    "            li = [ [score, sentiment] ]\n",
    "            df_temp = pd.DataFrame(li,columns = col)\n",
    "            #print(df_temp['score'])\n",
    "            df3 = df3.append(df_temp)\n",
    "            #print(df3)\n",
    "    print(\"\\n\\n\")"
   ]
  },
  {
   "cell_type": "code",
   "execution_count": 7,
   "metadata": {},
   "outputs": [
    {
     "name": "stdout",
     "output_type": "stream",
     "text": [
      "  augurmsgID backend_name                                            project  \\\n",
      "0          1    Pipermail  https://lists.opendaylight.org/pipermail/aalld...   \n",
      "1          2    Pipermail  https://lists.opendaylight.org/pipermail/aalld...   \n",
      "2          3    Pipermail  https://lists.opendaylight.org/pipermail/aalld...   \n",
      "3          4    Pipermail  https://lists.opendaylight.org/pipermail/aalld...   \n",
      "4          5    Pipermail  https://lists.opendaylight.org/pipermail/aalld...   \n",
      "\n",
      "  mailing_list category message_part message_parts_tot  \\\n",
      "0   aalldp-dev  message            1                 2   \n",
      "1   aalldp-dev  message            2                 2   \n",
      "2   aalldp-dev  message            1                 2   \n",
      "3   aalldp-dev  message            2                 2   \n",
      "4   aalldp-dev  message            1                 2   \n",
      "\n",
      "                                           subject                date  \\\n",
      "0            [aalldp-dev] AALLDP Active Committers 2016-03-24 20:37:11   \n",
      "1            [aalldp-dev] AALLDP Active Committers 2016-03-24 20:37:11   \n",
      "2  [aalldp-dev] Plans for Archiving AALLDP Project 2016-03-24 20:37:08   \n",
      "3  [aalldp-dev] Plans for Archiving AALLDP Project 2016-03-24 20:37:08   \n",
      "4           [aalldp-dev] change LLDP Multicast Mac 2018-07-05 14:41:28   \n",
      "\n",
      "                                     message_from  \\\n",
      "0                     An.Ho at huawei.com (An Ho)   \n",
      "1                     An.Ho at huawei.com (An Ho)   \n",
      "2                     An.Ho at huawei.com (An Ho)   \n",
      "3                     An.Ho at huawei.com (An Ho)   \n",
      "4  corajososprojetosdn at gmail.com (Projeto sdn)   \n",
      "\n",
      "                                          message_id  \\\n",
      "0  <EEEA408CE50B48498B9F866085AEF2912FAEEAAD@SJCE...   \n",
      "1  <EEEA408CE50B48498B9F866085AEF2912FAEEAAD@SJCE...   \n",
      "2  <EEEA408CE50B48498B9F866085AEF2912FAEEAA0@SJCE...   \n",
      "3  <EEEA408CE50B48498B9F866085AEF2912FAEEAA0@SJCE...   \n",
      "4  <CAAEbTdOB4-jAKLfvMpwKmsVVESyaSk0igOgmUY=vxw0n...   \n",
      "\n",
      "                                        message_text score sentiment  \n",
      "0  Hi Brian Kaczynski <kaczynskib at avaya.com>, ...     0  Positive  \n",
      "1  this email to indicate that you are still an a...     0  Positive  \n",
      "2  Hi AALLDP Team,\\n\\n\\n\\n1. Does your project ha...     0  Positive  \n",
      "3   for any future active development, project co...     0  Positive  \n",
      "4  Hi guys,\\n\\nI'm new to the opendaylight univer...    -1  Negative  \n",
      "(28, 14)\n"
     ]
    }
   ],
   "source": [
    "df3 = df3.reset_index(drop=True)\n",
    "df_list = df_list.reset_index(drop=True)\n",
    "combine = (df_list.join(df3))\n",
    "\n",
    "print(combine.head())\n",
    "print(combine.shape)\n",
    "combine.to_sql(name='mail_lists_sentiment_scores_senticr',con=connect.db,\\\n",
    "               if_exists='replace',index=False)"
   ]
  },
  {
   "cell_type": "code",
   "execution_count": 8,
   "metadata": {},
   "outputs": [
    {
     "name": "stdout",
     "output_type": "stream",
     "text": [
      "(20,)\n",
      "(20,)\n"
     ]
    },
    {
     "data": {
      "image/png": "[encoded data removed]",
      "text/plain": [
       "<Figure size 432x288 with 1 Axes>"
      ]
     },
     "metadata": {},
     "output_type": "display_data"
    },
    {
     "name": "stdout",
     "output_type": "stream",
     "text": [
      "(8,)\n",
      "(8,)\n"
     ]
    },
    {
     "data": {
      "image/png": "[encoded data removed]",
      "text/plain": [
       "<Figure size 432x288 with 1 Axes>"
      ]
     },
     "metadata": {},
     "output_type": "display_data"
    }
   ],
   "source": [
    "grouped = combine.groupby('mailing_list').groups\n",
    "dates = []\n",
    "mail_list = None\n",
    "j = 0\n",
    "for group in grouped:\n",
    "    dates = (combine.loc[combine['mailing_list'] == group]['date']).tolist()\n",
    "    values = []\n",
    "    for val in dates:\n",
    "        #print(val)\n",
    "        values.append((combine.loc[combine['date'] == val]['score']).tolist()[0])\n",
    "    #values = (combine.loc[combine['mailing_list'] == group]['score']).unique().tolist()\n",
    "    x = np.array(dates)\n",
    "    #dates = np.unique(x)\n",
    "    #print(dates)\n",
    "    dates1 = [r.to_pydatetime() for r in x]\n",
    "    fin_dates = mdates.date2num(dates1)\n",
    "    fin_values = np.asarray(values)\n",
    "    print(fin_dates.shape)\n",
    "    print(fin_values.shape)\n",
    "    plot.plot_date(fin_dates, fin_values)\n",
    "    #plot.plot(fin_dates,fin_values)\n",
    "    plot.gcf().autofmt_xdate()\n",
    "    plot.title(\"Mailing lst: \"+ group)\n",
    "    plot.ylabel('Score')\n",
    "    plot.xlabel('Date')\n",
    "    #print(fin_dates)\n",
    "    slope, intercept, r_value, p_value, std_err = stats.linregress(fin_dates,fin_values)\n",
    "    line = slope*fin_dates+intercept\n",
    "    plot.plot(fin_dates,fin_values,'o', fin_dates, line)\n",
    "    #plot.savefig('foo' + str(x) + '.png')\n",
    "    #x+=1\n",
    "    plot.show()"
   ]
  }
 ],
 "metadata": {
  "kernelspec": {
   "display_name": "Python (augur)",
   "language": "python",
   "name": "augur"
  },
  "language_info": {
   "codemirror_mode": {
    "name": "ipython",
    "version": 3
   },
   "file_extension": ".py",
   "mimetype": "text/x-python",
   "name": "python",
   "nbconvert_exporter": "python",
   "pygments_lexer": "ipython3",
   "version": "3.6.5"
  }
 },
 "nbformat": 4,
 "nbformat_minor": 2
}
